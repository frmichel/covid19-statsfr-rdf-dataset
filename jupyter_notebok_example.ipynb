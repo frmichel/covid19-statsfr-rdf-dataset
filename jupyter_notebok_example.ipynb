{
 "cells": [
  {
   "cell_type": "code",
   "execution_count": 1,
   "metadata": {},
   "outputs": [],
   "source": [
    "import pandas as pd\n",
    "import matplotlib.pyplot as plt\n",
    "import matplotlib.dates as mdates\n",
    "from SPARQLWrapper import SPARQLWrapper, JSON, POST\n",
    "import json"
   ]
  },
  {
   "cell_type": "code",
   "execution_count": 2,
   "metadata": {},
   "outputs": [],
   "source": [
    "# Initializations\n",
    "prefixes = '''\n",
    "prefix covidpr:<http://ns.inria.fr/covid19/property/>\n",
    "prefix owl:    <http://www.w3.org/2002/07/owl#>\n",
    "prefix rdf:    <http://www.w3.org/1999/02/22-rdf-syntax-ns#>\n",
    "prefix rdfs:   <http://www.w3.org/2000/01/rdf-schema#>\n",
    "prefix schema: <http://schema.org/>\n",
    "prefix wdt:    <http://www.wikidata.org/prop/direct/>\n",
    "prefix wd:     <http://www.wikidata.org/entity/>\n",
    "prefix xsd:    <http://www.w3.org/2001/XMLSchema#>\n",
    "'''"
   ]
  },
  {
   "cell_type": "code",
   "execution_count": 3,
   "metadata": {},
   "outputs": [],
   "source": [
    "endpoint = 'https://covidontheweb.inria.fr/sparql'"
   ]
  },
  {
   "cell_type": "code",
   "execution_count": 4,
   "metadata": {
    "jupyter": {
     "source_hidden": true
    }
   },
   "outputs": [],
   "source": [
    "def exec_sparql(endpoint, query):\n",
    "    \"\"\"\n",
    "    Execute a SPARQL query and return results as a Pandas DataFrame.\n",
    "    Invocation uses the HTTP POST method. Requested result format is JSON.\n",
    "\n",
    "    In case of failure, the function retries up to MAX_ATTEMPTS attempts while waiting increasing time between each attempt.\n",
    "    An empty DataFrame is returned in case no attempt is successful.\n",
    "    \"\"\"\n",
    "    # Max number of time a SPARQL query can fail before giving up\n",
    "    MAX_ATTEMPTS = 3\n",
    "\n",
    "    sparql = SPARQLWrapper(endpoint)\n",
    "    sparql.setMethod(POST)\n",
    "    sparql.setReturnFormat(JSON)\n",
    "    sparql.setQuery(query)\n",
    "    \n",
    "    attempt = 1;\n",
    "    success = False\n",
    "    while not success and attempt <= MAX_ATTEMPTS:\n",
    "        try:\n",
    "            raw_results = sparql.query()\n",
    "            results = raw_results.convert()\n",
    "        except:\n",
    "            print(f'Error while executing SPARQL query (attempt {attempt}/{MAX_ATTEMPTS}).', end=' ')\n",
    "            if attempt < MAX_ATTEMPTS:\n",
    "                # Wait a few seconds before next attempt (5, 10, 15, ...)\n",
    "                print(f'Will retry in {attempt * 5}s.')\n",
    "                sleep(attempt * 5)\n",
    "        else:\n",
    "            success = True\n",
    "        finally:\n",
    "            attempt = attempt + 1\n",
    "\n",
    "    if success:\n",
    "        if 'head' in results and 'results' in results:\n",
    "            cols = results['head']['vars']\n",
    "            out = []\n",
    "            for row in results['results']['bindings']:\n",
    "                item = []\n",
    "                for c in cols:\n",
    "                    item.append(row.get(c, {}).get('value'))\n",
    "                out.append(item)\n",
    "            return pd.DataFrame(out, columns=cols)\n",
    "        else:\n",
    "            print('Invalid SPARQL result. Will return empty DataFrame.\\n' + str(results))\n",
    "    else:\n",
    "        print(f'Unable to execute SPARQL query after {MAX_ATTEMPTS} attempts. Will return empty DataFarme.')\n",
    "                  \n",
    "    return pd.DataFrame()            \n",
    "\n",
    "\n",
    "def dataframe_preview(df, start=0, end=10):\n",
    "    print(\"== Number of lines: \" + str(df.shape[0]))\n",
    "    print(\"== Number of unique values:\")\n",
    "    print(df.nunique())\n",
    "    display(df[start:end])"
   ]
  },
  {
   "cell_type": "code",
   "execution_count": 5,
   "metadata": {},
   "outputs": [],
   "source": [
    "query = prefixes + '''\n",
    "select ?date ?deaths ?hospitalized ?intensive from <http://ns.inria.fr/covid19/graph/datagouvfr>\n",
    "where {\n",
    "    ?a  a schema:SpecialAnnouncement;\n",
    "        schema:datePosted ?date;\n",
    "        schema:spatialCoverage [\n",
    "            # on the whole country\n",
    "            a         wd:Q3624078; # state\n",
    "\n",
    "            # on one department\n",
    "            #a            wd:Q6465; # French department\n",
    "            #wdt:P2586    \"06\";     # INSEE department code\n",
    "        ];\n",
    "        schema:diseaseSpreadStatistics [\n",
    "            schema:measuredProperty wdt:P1120; # number of deaths\n",
    "            schema:measuredValue ?deaths\n",
    "        ];\n",
    "        schema:diseaseSpreadStatistics [\n",
    "            schema:measuredProperty wdt:P8049; # number of hospitalized cases\n",
    "            schema:measuredValue ?hospitalized\n",
    "        ];\n",
    "        schema:diseaseSpreadStatistics [\n",
    "            schema:measuredProperty <http://ns.inria.fr/covid19/property/noCasesIntensiveCare>;\n",
    "            schema:measuredValue ?intensive\n",
    "        ].\n",
    "} order by ?date\n",
    "'''"
   ]
  },
  {
   "cell_type": "code",
   "execution_count": 6,
   "metadata": {},
   "outputs": [
    {
     "name": "stdout",
     "output_type": "stream",
     "text": [
      "Wall time: 383 ms\n"
     ]
    }
   ],
   "source": [
    "%time df = exec_sparql(endpoint, query)"
   ]
  },
  {
   "cell_type": "code",
   "execution_count": 7,
   "metadata": {},
   "outputs": [
    {
     "name": "stdout",
     "output_type": "stream",
     "text": [
      "== Number of lines: 610\n",
      "== Number of unique values:\n",
      "deaths          609\n",
      "hospitalized    594\n",
      "intensive       563\n",
      "dtype: int64\n"
     ]
    },
    {
     "data": {
      "text/html": [
       "<div>\n",
       "<style scoped>\n",
       "    .dataframe tbody tr th:only-of-type {\n",
       "        vertical-align: middle;\n",
       "    }\n",
       "\n",
       "    .dataframe tbody tr th {\n",
       "        vertical-align: top;\n",
       "    }\n",
       "\n",
       "    .dataframe thead th {\n",
       "        text-align: right;\n",
       "    }\n",
       "</style>\n",
       "<table border=\"1\" class=\"dataframe\">\n",
       "  <thead>\n",
       "    <tr style=\"text-align: right;\">\n",
       "      <th></th>\n",
       "      <th>deaths</th>\n",
       "      <th>hospitalized</th>\n",
       "      <th>intensive</th>\n",
       "    </tr>\n",
       "    <tr>\n",
       "      <th>date</th>\n",
       "      <th></th>\n",
       "      <th></th>\n",
       "      <th></th>\n",
       "    </tr>\n",
       "  </thead>\n",
       "  <tbody>\n",
       "    <tr>\n",
       "      <th>2020-03-18</th>\n",
       "      <td>218</td>\n",
       "      <td>2972</td>\n",
       "      <td>771</td>\n",
       "    </tr>\n",
       "    <tr>\n",
       "      <th>2020-03-19</th>\n",
       "      <td>327</td>\n",
       "      <td>4073</td>\n",
       "      <td>1002</td>\n",
       "    </tr>\n",
       "    <tr>\n",
       "      <th>2020-03-20</th>\n",
       "      <td>450</td>\n",
       "      <td>5226</td>\n",
       "      <td>1297</td>\n",
       "    </tr>\n",
       "    <tr>\n",
       "      <th>2020-03-21</th>\n",
       "      <td>525</td>\n",
       "      <td>5900</td>\n",
       "      <td>1453</td>\n",
       "    </tr>\n",
       "    <tr>\n",
       "      <th>2020-03-22</th>\n",
       "      <td>632</td>\n",
       "      <td>6954</td>\n",
       "      <td>1674</td>\n",
       "    </tr>\n",
       "    <tr>\n",
       "      <th>2020-03-23</th>\n",
       "      <td>860</td>\n",
       "      <td>8673</td>\n",
       "      <td>2080</td>\n",
       "    </tr>\n",
       "    <tr>\n",
       "      <th>2020-03-24</th>\n",
       "      <td>1100</td>\n",
       "      <td>10163</td>\n",
       "      <td>2503</td>\n",
       "    </tr>\n",
       "    <tr>\n",
       "      <th>2020-03-25</th>\n",
       "      <td>1388</td>\n",
       "      <td>12072</td>\n",
       "      <td>2935</td>\n",
       "    </tr>\n",
       "    <tr>\n",
       "      <th>2020-03-26</th>\n",
       "      <td>1696</td>\n",
       "      <td>13879</td>\n",
       "      <td>3351</td>\n",
       "    </tr>\n",
       "    <tr>\n",
       "      <th>2020-03-27</th>\n",
       "      <td>1995</td>\n",
       "      <td>15701</td>\n",
       "      <td>3758</td>\n",
       "    </tr>\n",
       "  </tbody>\n",
       "</table>\n",
       "</div>"
      ],
      "text/plain": [
       "           deaths  hospitalized  intensive\n",
       "date                                      \n",
       "2020-03-18    218          2972        771\n",
       "2020-03-19    327          4073       1002\n",
       "2020-03-20    450          5226       1297\n",
       "2020-03-21    525          5900       1453\n",
       "2020-03-22    632          6954       1674\n",
       "2020-03-23    860          8673       2080\n",
       "2020-03-24   1100         10163       2503\n",
       "2020-03-25   1388         12072       2935\n",
       "2020-03-26   1696         13879       3351\n",
       "2020-03-27   1995         15701       3758"
      ]
     },
     "metadata": {},
     "output_type": "display_data"
    }
   ],
   "source": [
    "# Prepare data\n",
    "#df.deaths = df.deaths.astype(int)\n",
    "df.hospitalized = df.hospitalized.astype(int)\n",
    "df.intensive = df.intensive.astype(int)\n",
    "df.date = pd.to_datetime(df.date, format='%Y-%m-%d')\n",
    "df.set_index('date', inplace=True)\n",
    "\n",
    "dataframe_preview(df, end=10)"
   ]
  },
  {
   "cell_type": "code",
   "execution_count": 8,
   "metadata": {},
   "outputs": [
    {
     "data": {
      "image/png": "[encoded data removed]",
      "text/plain": [
       "<Figure size 864x504 with 1 Axes>"
      ]
     },
     "metadata": {
      "needs_background": "light"
     },
     "output_type": "display_data"
    }
   ],
   "source": [
    "fig, ax = plt.subplots(figsize=(12,7))\n",
    "ax.xaxis.set_major_locator(mdates.MonthLocator())\n",
    "ax.xaxis.set_major_formatter(mdates.DateFormatter('%b %d'))\n",
    "df.plot(ax=ax)\n",
    "plt.show()"
   ]
  },
  {
   "cell_type": "code",
   "execution_count": null,
   "metadata": {},
   "outputs": [],
   "source": []
  }
 ],
 "metadata": {
  "kernelspec": {
   "display_name": "Python 3",
   "language": "python",
   "name": "python3"
  },
  "language_info": {
   "codemirror_mode": {
    "name": "ipython",
    "version": 3
   },
   "file_extension": ".py",
   "mimetype": "text/x-python",
   "name": "python",
   "nbconvert_exporter": "python",
   "pygments_lexer": "ipython3",
   "version": "3.8.6"
  }
 },
 "nbformat": 4,
 "nbformat_minor": 4
}
